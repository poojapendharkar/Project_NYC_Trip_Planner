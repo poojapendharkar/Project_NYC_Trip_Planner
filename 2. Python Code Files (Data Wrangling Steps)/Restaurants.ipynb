{
 "cells": [
  {
   "cell_type": "code",
   "execution_count": 1,
   "id": "3301e75b",
   "metadata": {},
   "outputs": [],
   "source": [
    "#Data cleaning for Rolled Up Restaurants Dataset\n",
    "\n",
    "#import libraries and dataset\n",
    "import pandas as pd\n",
    "from pandas_profiling import ProfileReport\n",
    "\n",
    "data = pd.read_csv(\"C:\\\\Users\\\\HP\\\\Downloads\\\\Restaurants_Raw.csv\")\n",
    "\n"
   ]
  },
  {
   "cell_type": "code",
   "execution_count": 2,
   "id": "00acd151",
   "metadata": {},
   "outputs": [
    {
     "data": {
      "application/vnd.jupyter.widget-view+json": {
       "model_id": "bc2d5e2b4aed402bbaaea7f0a68f19df",
       "version_major": 2,
       "version_minor": 0
      },
      "text/plain": [
       "Summarize dataset:   0%|          | 0/5 [00:00<?, ?it/s]"
      ]
     },
     "metadata": {},
     "output_type": "display_data"
    },
    {
     "data": {
      "application/vnd.jupyter.widget-view+json": {
       "model_id": "58c4c205720d431b939da8ffb47c4bc2",
       "version_major": 2,
       "version_minor": 0
      },
      "text/plain": [
       "Generate report structure:   0%|          | 0/1 [00:00<?, ?it/s]"
      ]
     },
     "metadata": {},
     "output_type": "display_data"
    },
    {
     "data": {
      "application/vnd.jupyter.widget-view+json": {
       "model_id": "9cecade5db1448b591ecae8b856929f2",
       "version_major": 2,
       "version_minor": 0
      },
      "text/plain": [
       "Render HTML:   0%|          | 0/1 [00:00<?, ?it/s]"
      ]
     },
     "metadata": {},
     "output_type": "display_data"
    },
    {
     "data": {
      "application/vnd.jupyter.widget-view+json": {
       "model_id": "2c7595b4e0084cd0ba34c9008dffd7a0",
       "version_major": 2,
       "version_minor": 0
      },
      "text/plain": [
       "Export report to file:   0%|          | 0/1 [00:00<?, ?it/s]"
      ]
     },
     "metadata": {},
     "output_type": "display_data"
    }
   ],
   "source": [
    "#profile the data\n",
    "profile= ProfileReport(data, title=\"profile\")\n",
    "profile.to_file(\"restaurant_report.html\")"
   ]
  },
  {
   "cell_type": "code",
   "execution_count": 3,
   "id": "64378f2f",
   "metadata": {},
   "outputs": [
    {
     "data": {
      "text/html": [
       "<div>\n",
       "<style scoped>\n",
       "    .dataframe tbody tr th:only-of-type {\n",
       "        vertical-align: middle;\n",
       "    }\n",
       "\n",
       "    .dataframe tbody tr th {\n",
       "        vertical-align: top;\n",
       "    }\n",
       "\n",
       "    .dataframe thead th {\n",
       "        text-align: right;\n",
       "    }\n",
       "</style>\n",
       "<table border=\"1\" class=\"dataframe\">\n",
       "  <thead>\n",
       "    <tr style=\"text-align: right;\">\n",
       "      <th></th>\n",
       "      <th>DBA</th>\n",
       "      <th>BORO</th>\n",
       "      <th>STREET</th>\n",
       "      <th>ZIPCODE</th>\n",
       "    </tr>\n",
       "  </thead>\n",
       "  <tbody>\n",
       "    <tr>\n",
       "      <th>0</th>\n",
       "      <td>MELANY RESTAURANT</td>\n",
       "      <td>Brooklyn</td>\n",
       "      <td>FLATBUSH AVENUE</td>\n",
       "      <td>11226.0</td>\n",
       "    </tr>\n",
       "    <tr>\n",
       "      <th>1</th>\n",
       "      <td>ING CAFE</td>\n",
       "      <td>Manhattan</td>\n",
       "      <td>AVENUE OF THE AMERICAS</td>\n",
       "      <td>10036.0</td>\n",
       "    </tr>\n",
       "    <tr>\n",
       "      <th>2</th>\n",
       "      <td>NaN</td>\n",
       "      <td>Staten Island</td>\n",
       "      <td>PAGE AVENUE</td>\n",
       "      <td>10309.0</td>\n",
       "    </tr>\n",
       "    <tr>\n",
       "      <th>3</th>\n",
       "      <td>KOSSARS &amp; BEYOND</td>\n",
       "      <td>Manhattan</td>\n",
       "      <td>GRAND STREET</td>\n",
       "      <td>10002.0</td>\n",
       "    </tr>\n",
       "    <tr>\n",
       "      <th>4</th>\n",
       "      <td>CITI FIELD STAND 321</td>\n",
       "      <td>Queens</td>\n",
       "      <td>126TH ST &amp; ROOSEVELT AVENUE</td>\n",
       "      <td>NaN</td>\n",
       "    </tr>\n",
       "  </tbody>\n",
       "</table>\n",
       "</div>"
      ],
      "text/plain": [
       "                    DBA           BORO                       STREET  ZIPCODE\n",
       "0     MELANY RESTAURANT       Brooklyn              FLATBUSH AVENUE  11226.0\n",
       "1              ING CAFE      Manhattan       AVENUE OF THE AMERICAS  10036.0\n",
       "2                   NaN  Staten Island                  PAGE AVENUE  10309.0\n",
       "3      KOSSARS & BEYOND      Manhattan                 GRAND STREET  10002.0\n",
       "4  CITI FIELD STAND 321         Queens  126TH ST & ROOSEVELT AVENUE      NaN"
      ]
     },
     "execution_count": 3,
     "metadata": {},
     "output_type": "execute_result"
    }
   ],
   "source": [
    "#drop the columns not required for our analysis\n",
    "\n",
    "data = data.drop(columns=['CAMIS', 'BUILDING'])\n",
    "\n",
    "data.head()"
   ]
  },
  {
   "cell_type": "code",
   "execution_count": 4,
   "id": "add32067",
   "metadata": {},
   "outputs": [
    {
     "data": {
      "text/plain": [
       "DBA         object\n",
       "BORO        object\n",
       "STREET      object\n",
       "ZIPCODE    float64\n",
       "dtype: object"
      ]
     },
     "execution_count": 4,
     "metadata": {},
     "output_type": "execute_result"
    }
   ],
   "source": [
    "datatypes = data.dtypes\n",
    "\n",
    "datatypes"
   ]
  },
  {
   "cell_type": "code",
   "execution_count": 5,
   "id": "03feabd7",
   "metadata": {},
   "outputs": [
    {
     "name": "stdout",
     "output_type": "stream",
     "text": [
      "DBA has 1558 missing value(s)\n",
      "BORO has NO missing value!\n",
      "STREET has 27 missing value(s)\n",
      "ZIPCODE has 459 missing value(s)\n"
     ]
    }
   ],
   "source": [
    "#handle missing and null values\n",
    "\n",
    "for c in data.columns:\n",
    "    miss = data[c].isnull().sum()\n",
    "    if miss>0:\n",
    "        print(\"{} has {} missing value(s)\".format(c,miss))\n",
    "    else:\n",
    "        print(\"{} has NO missing value!\".format(c))"
   ]
  },
  {
   "cell_type": "code",
   "execution_count": 6,
   "id": "f7060430",
   "metadata": {},
   "outputs": [
    {
     "data": {
      "text/plain": [
       "(27975, 4)"
      ]
     },
     "execution_count": 6,
     "metadata": {},
     "output_type": "execute_result"
    }
   ],
   "source": [
    "data.shape"
   ]
  },
  {
   "cell_type": "code",
   "execution_count": 7,
   "id": "5c55a034",
   "metadata": {},
   "outputs": [
    {
     "data": {
      "text/plain": [
       "(25991, 4)"
      ]
     },
     "execution_count": 7,
     "metadata": {},
     "output_type": "execute_result"
    }
   ],
   "source": [
    "#drop rows with missing values to ensure we have clean data\n",
    "\n",
    "data.dropna(axis='index', how ='any', inplace=True)\n",
    "\n",
    "data.shape"
   ]
  },
  {
   "cell_type": "code",
   "execution_count": 8,
   "id": "991efc31",
   "metadata": {},
   "outputs": [
    {
     "name": "stdout",
     "output_type": "stream",
     "text": [
      "DBA has NO missing value!\n",
      "BORO has NO missing value!\n",
      "STREET has NO missing value!\n",
      "ZIPCODE has NO missing value!\n"
     ]
    }
   ],
   "source": [
    "#check if all missing values have been removed\n",
    "\n",
    "for c in data.columns:\n",
    "    miss = data[c].isnull().sum()\n",
    "    if miss>0:\n",
    "        print(\"{} has {} missing value(s)\".format(c,miss))\n",
    "    else:\n",
    "        print(\"{} has NO missing value!\".format(c))"
   ]
  },
  {
   "cell_type": "code",
   "execution_count": 9,
   "id": "bd9c5dd3",
   "metadata": {},
   "outputs": [],
   "source": [
    "#change datatype to match our desired output\n",
    "\n",
    "convert_dict = {'DBA': str,'BORO': str,'STREET': str,'ZIPCODE': int }"
   ]
  },
  {
   "cell_type": "code",
   "execution_count": 10,
   "id": "4d17f7e6",
   "metadata": {},
   "outputs": [
    {
     "data": {
      "text/plain": [
       "DBA        object\n",
       "BORO       object\n",
       "STREET     object\n",
       "ZIPCODE     int32\n",
       "dtype: object"
      ]
     },
     "execution_count": 10,
     "metadata": {},
     "output_type": "execute_result"
    }
   ],
   "source": [
    "data = data.astype(convert_dict)\n",
    "\n",
    "data.dtypes"
   ]
  },
  {
   "cell_type": "code",
   "execution_count": 11,
   "id": "f252c2f9",
   "metadata": {},
   "outputs": [
    {
     "data": {
      "text/html": [
       "<div>\n",
       "<style scoped>\n",
       "    .dataframe tbody tr th:only-of-type {\n",
       "        vertical-align: middle;\n",
       "    }\n",
       "\n",
       "    .dataframe tbody tr th {\n",
       "        vertical-align: top;\n",
       "    }\n",
       "\n",
       "    .dataframe thead th {\n",
       "        text-align: right;\n",
       "    }\n",
       "</style>\n",
       "<table border=\"1\" class=\"dataframe\">\n",
       "  <thead>\n",
       "    <tr style=\"text-align: right;\">\n",
       "      <th></th>\n",
       "      <th>DBA</th>\n",
       "      <th>BORO</th>\n",
       "      <th>STREET</th>\n",
       "      <th>ZIPCODE</th>\n",
       "      <th>Address</th>\n",
       "    </tr>\n",
       "  </thead>\n",
       "  <tbody>\n",
       "    <tr>\n",
       "      <th>0</th>\n",
       "      <td>MELANY RESTAURANT</td>\n",
       "      <td>Brooklyn</td>\n",
       "      <td>FLATBUSH AVENUE</td>\n",
       "      <td>11226</td>\n",
       "      <td>FLATBUSH AVENUE, Brooklyn</td>\n",
       "    </tr>\n",
       "    <tr>\n",
       "      <th>1</th>\n",
       "      <td>ING CAFE</td>\n",
       "      <td>Manhattan</td>\n",
       "      <td>AVENUE OF THE AMERICAS</td>\n",
       "      <td>10036</td>\n",
       "      <td>AVENUE OF THE AMERICAS, Manhattan</td>\n",
       "    </tr>\n",
       "    <tr>\n",
       "      <th>3</th>\n",
       "      <td>KOSSARS &amp; BEYOND</td>\n",
       "      <td>Manhattan</td>\n",
       "      <td>GRAND STREET</td>\n",
       "      <td>10002</td>\n",
       "      <td>GRAND STREET, Manhattan</td>\n",
       "    </tr>\n",
       "    <tr>\n",
       "      <th>5</th>\n",
       "      <td>PORTAL LATINO RESTAURANT</td>\n",
       "      <td>Brooklyn</td>\n",
       "      <td>SMITH STREET</td>\n",
       "      <td>11201</td>\n",
       "      <td>SMITH STREET, Brooklyn</td>\n",
       "    </tr>\n",
       "    <tr>\n",
       "      <th>6</th>\n",
       "      <td>UNREGULAR PIZZA</td>\n",
       "      <td>Manhattan</td>\n",
       "      <td>4 AVENUE</td>\n",
       "      <td>10003</td>\n",
       "      <td>4 AVENUE, Manhattan</td>\n",
       "    </tr>\n",
       "  </tbody>\n",
       "</table>\n",
       "</div>"
      ],
      "text/plain": [
       "                        DBA       BORO                  STREET  ZIPCODE  \\\n",
       "0         MELANY RESTAURANT   Brooklyn         FLATBUSH AVENUE    11226   \n",
       "1                  ING CAFE  Manhattan  AVENUE OF THE AMERICAS    10036   \n",
       "3          KOSSARS & BEYOND  Manhattan            GRAND STREET    10002   \n",
       "5  PORTAL LATINO RESTAURANT   Brooklyn            SMITH STREET    11201   \n",
       "6           UNREGULAR PIZZA  Manhattan                4 AVENUE    10003   \n",
       "\n",
       "                             Address  \n",
       "0          FLATBUSH AVENUE, Brooklyn  \n",
       "1  AVENUE OF THE AMERICAS, Manhattan  \n",
       "3            GRAND STREET, Manhattan  \n",
       "5             SMITH STREET, Brooklyn  \n",
       "6                4 AVENUE, Manhattan  "
      ]
     },
     "execution_count": 11,
     "metadata": {},
     "output_type": "execute_result"
    }
   ],
   "source": [
    "#concatenate two columns to form one address column \n",
    "\n",
    "data['Address'] = data['STREET'].str.cat(data['BORO'],sep=\", \")\n",
    "\n",
    "data.head()"
   ]
  },
  {
   "cell_type": "code",
   "execution_count": 12,
   "id": "cd6146af",
   "metadata": {},
   "outputs": [],
   "source": [
    "#drop the columns as we have already combined the data into a address\n",
    "\n",
    "data = data.drop(columns=['BORO', 'STREET'])"
   ]
  },
  {
   "cell_type": "code",
   "execution_count": 13,
   "id": "abe2ad43",
   "metadata": {},
   "outputs": [
    {
     "data": {
      "text/html": [
       "<div>\n",
       "<style scoped>\n",
       "    .dataframe tbody tr th:only-of-type {\n",
       "        vertical-align: middle;\n",
       "    }\n",
       "\n",
       "    .dataframe tbody tr th {\n",
       "        vertical-align: top;\n",
       "    }\n",
       "\n",
       "    .dataframe thead th {\n",
       "        text-align: right;\n",
       "    }\n",
       "</style>\n",
       "<table border=\"1\" class=\"dataframe\">\n",
       "  <thead>\n",
       "    <tr style=\"text-align: right;\">\n",
       "      <th></th>\n",
       "      <th>DBA</th>\n",
       "      <th>ZIPCODE</th>\n",
       "      <th>Address</th>\n",
       "      <th>Category</th>\n",
       "      <th>Phn_No</th>\n",
       "      <th>URL</th>\n",
       "      <th>Additional_Details</th>\n",
       "    </tr>\n",
       "  </thead>\n",
       "  <tbody>\n",
       "    <tr>\n",
       "      <th>0</th>\n",
       "      <td>MELANY RESTAURANT</td>\n",
       "      <td>11226</td>\n",
       "      <td>FLATBUSH AVENUE, Brooklyn</td>\n",
       "      <td>Restaurant</td>\n",
       "      <td>Not Available</td>\n",
       "      <td>Not Available</td>\n",
       "      <td>Not Available</td>\n",
       "    </tr>\n",
       "    <tr>\n",
       "      <th>1</th>\n",
       "      <td>ING CAFE</td>\n",
       "      <td>10036</td>\n",
       "      <td>AVENUE OF THE AMERICAS, Manhattan</td>\n",
       "      <td>Restaurant</td>\n",
       "      <td>Not Available</td>\n",
       "      <td>Not Available</td>\n",
       "      <td>Not Available</td>\n",
       "    </tr>\n",
       "    <tr>\n",
       "      <th>3</th>\n",
       "      <td>KOSSARS &amp; BEYOND</td>\n",
       "      <td>10002</td>\n",
       "      <td>GRAND STREET, Manhattan</td>\n",
       "      <td>Restaurant</td>\n",
       "      <td>Not Available</td>\n",
       "      <td>Not Available</td>\n",
       "      <td>Not Available</td>\n",
       "    </tr>\n",
       "    <tr>\n",
       "      <th>5</th>\n",
       "      <td>PORTAL LATINO RESTAURANT</td>\n",
       "      <td>11201</td>\n",
       "      <td>SMITH STREET, Brooklyn</td>\n",
       "      <td>Restaurant</td>\n",
       "      <td>Not Available</td>\n",
       "      <td>Not Available</td>\n",
       "      <td>Not Available</td>\n",
       "    </tr>\n",
       "    <tr>\n",
       "      <th>6</th>\n",
       "      <td>UNREGULAR PIZZA</td>\n",
       "      <td>10003</td>\n",
       "      <td>4 AVENUE, Manhattan</td>\n",
       "      <td>Restaurant</td>\n",
       "      <td>Not Available</td>\n",
       "      <td>Not Available</td>\n",
       "      <td>Not Available</td>\n",
       "    </tr>\n",
       "  </tbody>\n",
       "</table>\n",
       "</div>"
      ],
      "text/plain": [
       "                        DBA  ZIPCODE                            Address  \\\n",
       "0         MELANY RESTAURANT    11226          FLATBUSH AVENUE, Brooklyn   \n",
       "1                  ING CAFE    10036  AVENUE OF THE AMERICAS, Manhattan   \n",
       "3          KOSSARS & BEYOND    10002            GRAND STREET, Manhattan   \n",
       "5  PORTAL LATINO RESTAURANT    11201             SMITH STREET, Brooklyn   \n",
       "6           UNREGULAR PIZZA    10003                4 AVENUE, Manhattan   \n",
       "\n",
       "     Category         Phn_No            URL Additional_Details  \n",
       "0  Restaurant  Not Available  Not Available      Not Available  \n",
       "1  Restaurant  Not Available  Not Available      Not Available  \n",
       "3  Restaurant  Not Available  Not Available      Not Available  \n",
       "5  Restaurant  Not Available  Not Available      Not Available  \n",
       "6  Restaurant  Not Available  Not Available      Not Available  "
      ]
     },
     "execution_count": 13,
     "metadata": {},
     "output_type": "execute_result"
    }
   ],
   "source": [
    "#add columns, since we do not have phn no url and other details we add it as not available\n",
    "#this step will help remove issues of missing values when all other data sets are combined\n",
    "\n",
    "data['Category'] = 'Restaurant'\n",
    "data['Phn_No'] = 'Not Available'\n",
    "data['URL'] = 'Not Available'\n",
    "data['Additional_Details'] = 'Not Available'\n",
    "data.head()"
   ]
  },
  {
   "cell_type": "code",
   "execution_count": 14,
   "id": "5afef034",
   "metadata": {},
   "outputs": [
    {
     "data": {
      "text/html": [
       "<div>\n",
       "<style scoped>\n",
       "    .dataframe tbody tr th:only-of-type {\n",
       "        vertical-align: middle;\n",
       "    }\n",
       "\n",
       "    .dataframe tbody tr th {\n",
       "        vertical-align: top;\n",
       "    }\n",
       "\n",
       "    .dataframe thead th {\n",
       "        text-align: right;\n",
       "    }\n",
       "</style>\n",
       "<table border=\"1\" class=\"dataframe\">\n",
       "  <thead>\n",
       "    <tr style=\"text-align: right;\">\n",
       "      <th></th>\n",
       "      <th>NAME</th>\n",
       "      <th>ZIPCODE</th>\n",
       "      <th>ADDRESS</th>\n",
       "      <th>CATEGORY</th>\n",
       "      <th>PHONE NO.</th>\n",
       "      <th>URL</th>\n",
       "      <th>ADDITIONAL DETAILS</th>\n",
       "    </tr>\n",
       "  </thead>\n",
       "  <tbody>\n",
       "    <tr>\n",
       "      <th>0</th>\n",
       "      <td>MELANY RESTAURANT</td>\n",
       "      <td>11226</td>\n",
       "      <td>FLATBUSH AVENUE, Brooklyn</td>\n",
       "      <td>Restaurant</td>\n",
       "      <td>Not Available</td>\n",
       "      <td>Not Available</td>\n",
       "      <td>Not Available</td>\n",
       "    </tr>\n",
       "    <tr>\n",
       "      <th>1</th>\n",
       "      <td>ING CAFE</td>\n",
       "      <td>10036</td>\n",
       "      <td>AVENUE OF THE AMERICAS, Manhattan</td>\n",
       "      <td>Restaurant</td>\n",
       "      <td>Not Available</td>\n",
       "      <td>Not Available</td>\n",
       "      <td>Not Available</td>\n",
       "    </tr>\n",
       "    <tr>\n",
       "      <th>3</th>\n",
       "      <td>KOSSARS &amp; BEYOND</td>\n",
       "      <td>10002</td>\n",
       "      <td>GRAND STREET, Manhattan</td>\n",
       "      <td>Restaurant</td>\n",
       "      <td>Not Available</td>\n",
       "      <td>Not Available</td>\n",
       "      <td>Not Available</td>\n",
       "    </tr>\n",
       "    <tr>\n",
       "      <th>5</th>\n",
       "      <td>PORTAL LATINO RESTAURANT</td>\n",
       "      <td>11201</td>\n",
       "      <td>SMITH STREET, Brooklyn</td>\n",
       "      <td>Restaurant</td>\n",
       "      <td>Not Available</td>\n",
       "      <td>Not Available</td>\n",
       "      <td>Not Available</td>\n",
       "    </tr>\n",
       "    <tr>\n",
       "      <th>6</th>\n",
       "      <td>UNREGULAR PIZZA</td>\n",
       "      <td>10003</td>\n",
       "      <td>4 AVENUE, Manhattan</td>\n",
       "      <td>Restaurant</td>\n",
       "      <td>Not Available</td>\n",
       "      <td>Not Available</td>\n",
       "      <td>Not Available</td>\n",
       "    </tr>\n",
       "  </tbody>\n",
       "</table>\n",
       "</div>"
      ],
      "text/plain": [
       "                       NAME  ZIPCODE                            ADDRESS  \\\n",
       "0         MELANY RESTAURANT    11226          FLATBUSH AVENUE, Brooklyn   \n",
       "1                  ING CAFE    10036  AVENUE OF THE AMERICAS, Manhattan   \n",
       "3          KOSSARS & BEYOND    10002            GRAND STREET, Manhattan   \n",
       "5  PORTAL LATINO RESTAURANT    11201             SMITH STREET, Brooklyn   \n",
       "6           UNREGULAR PIZZA    10003                4 AVENUE, Manhattan   \n",
       "\n",
       "     CATEGORY      PHONE NO.            URL ADDITIONAL DETAILS  \n",
       "0  Restaurant  Not Available  Not Available      Not Available  \n",
       "1  Restaurant  Not Available  Not Available      Not Available  \n",
       "3  Restaurant  Not Available  Not Available      Not Available  \n",
       "5  Restaurant  Not Available  Not Available      Not Available  \n",
       "6  Restaurant  Not Available  Not Available      Not Available  "
      ]
     },
     "execution_count": 14,
     "metadata": {},
     "output_type": "execute_result"
    }
   ],
   "source": [
    "#rename columns\n",
    "\n",
    "data.rename(columns = {'Category':'CATEGORY', 'DBA':'NAME', 'Address':'ADDRESS', 'Zipcode':'ZIPCODE','Phn_No':'PHONE NO.', 'Additional_Details':'ADDITIONAL DETAILS'}, inplace = True)\n",
    "data.head()"
   ]
  },
  {
   "cell_type": "code",
   "execution_count": 15,
   "id": "81abc0fb",
   "metadata": {},
   "outputs": [
    {
     "data": {
      "text/html": [
       "<div>\n",
       "<style scoped>\n",
       "    .dataframe tbody tr th:only-of-type {\n",
       "        vertical-align: middle;\n",
       "    }\n",
       "\n",
       "    .dataframe tbody tr th {\n",
       "        vertical-align: top;\n",
       "    }\n",
       "\n",
       "    .dataframe thead th {\n",
       "        text-align: right;\n",
       "    }\n",
       "</style>\n",
       "<table border=\"1\" class=\"dataframe\">\n",
       "  <thead>\n",
       "    <tr style=\"text-align: right;\">\n",
       "      <th></th>\n",
       "      <th>CATEGORY</th>\n",
       "      <th>NAME</th>\n",
       "      <th>ADDRESS</th>\n",
       "      <th>ZIPCODE</th>\n",
       "      <th>PHONE NO.</th>\n",
       "      <th>URL</th>\n",
       "      <th>ADDITIONAL DETAILS</th>\n",
       "    </tr>\n",
       "  </thead>\n",
       "  <tbody>\n",
       "    <tr>\n",
       "      <th>0</th>\n",
       "      <td>Restaurant</td>\n",
       "      <td>MELANY RESTAURANT</td>\n",
       "      <td>FLATBUSH AVENUE, Brooklyn</td>\n",
       "      <td>11226</td>\n",
       "      <td>Not Available</td>\n",
       "      <td>Not Available</td>\n",
       "      <td>Not Available</td>\n",
       "    </tr>\n",
       "    <tr>\n",
       "      <th>1</th>\n",
       "      <td>Restaurant</td>\n",
       "      <td>ING CAFE</td>\n",
       "      <td>AVENUE OF THE AMERICAS, Manhattan</td>\n",
       "      <td>10036</td>\n",
       "      <td>Not Available</td>\n",
       "      <td>Not Available</td>\n",
       "      <td>Not Available</td>\n",
       "    </tr>\n",
       "    <tr>\n",
       "      <th>3</th>\n",
       "      <td>Restaurant</td>\n",
       "      <td>KOSSARS &amp; BEYOND</td>\n",
       "      <td>GRAND STREET, Manhattan</td>\n",
       "      <td>10002</td>\n",
       "      <td>Not Available</td>\n",
       "      <td>Not Available</td>\n",
       "      <td>Not Available</td>\n",
       "    </tr>\n",
       "    <tr>\n",
       "      <th>5</th>\n",
       "      <td>Restaurant</td>\n",
       "      <td>PORTAL LATINO RESTAURANT</td>\n",
       "      <td>SMITH STREET, Brooklyn</td>\n",
       "      <td>11201</td>\n",
       "      <td>Not Available</td>\n",
       "      <td>Not Available</td>\n",
       "      <td>Not Available</td>\n",
       "    </tr>\n",
       "    <tr>\n",
       "      <th>6</th>\n",
       "      <td>Restaurant</td>\n",
       "      <td>UNREGULAR PIZZA</td>\n",
       "      <td>4 AVENUE, Manhattan</td>\n",
       "      <td>10003</td>\n",
       "      <td>Not Available</td>\n",
       "      <td>Not Available</td>\n",
       "      <td>Not Available</td>\n",
       "    </tr>\n",
       "    <tr>\n",
       "      <th>...</th>\n",
       "      <td>...</td>\n",
       "      <td>...</td>\n",
       "      <td>...</td>\n",
       "      <td>...</td>\n",
       "      <td>...</td>\n",
       "      <td>...</td>\n",
       "      <td>...</td>\n",
       "    </tr>\n",
       "    <tr>\n",
       "      <th>27970</th>\n",
       "      <td>Restaurant</td>\n",
       "      <td>MC BAKERY AND COFFEE SHOP II</td>\n",
       "      <td>JEROME AVENUE, Bronx</td>\n",
       "      <td>10468</td>\n",
       "      <td>Not Available</td>\n",
       "      <td>Not Available</td>\n",
       "      <td>Not Available</td>\n",
       "    </tr>\n",
       "    <tr>\n",
       "      <th>27971</th>\n",
       "      <td>Restaurant</td>\n",
       "      <td>HENO HENO</td>\n",
       "      <td>WEST   46 STREET, Manhattan</td>\n",
       "      <td>10036</td>\n",
       "      <td>Not Available</td>\n",
       "      <td>Not Available</td>\n",
       "      <td>Not Available</td>\n",
       "    </tr>\n",
       "    <tr>\n",
       "      <th>27972</th>\n",
       "      <td>Restaurant</td>\n",
       "      <td>A &amp; C GUYANA BAKERY &amp; RESTAURANT</td>\n",
       "      <td>UTICA AVENUE, Brooklyn</td>\n",
       "      <td>11203</td>\n",
       "      <td>Not Available</td>\n",
       "      <td>Not Available</td>\n",
       "      <td>Not Available</td>\n",
       "    </tr>\n",
       "    <tr>\n",
       "      <th>27973</th>\n",
       "      <td>Restaurant</td>\n",
       "      <td>NEW WIN HING INC</td>\n",
       "      <td>BAY STREET, Staten Island</td>\n",
       "      <td>10305</td>\n",
       "      <td>Not Available</td>\n",
       "      <td>Not Available</td>\n",
       "      <td>Not Available</td>\n",
       "    </tr>\n",
       "    <tr>\n",
       "      <th>27974</th>\n",
       "      <td>Restaurant</td>\n",
       "      <td>L'ARGOT</td>\n",
       "      <td>HAMILTON PLACE, Manhattan</td>\n",
       "      <td>10031</td>\n",
       "      <td>Not Available</td>\n",
       "      <td>Not Available</td>\n",
       "      <td>Not Available</td>\n",
       "    </tr>\n",
       "  </tbody>\n",
       "</table>\n",
       "<p>25991 rows × 7 columns</p>\n",
       "</div>"
      ],
      "text/plain": [
       "         CATEGORY                              NAME  \\\n",
       "0      Restaurant                 MELANY RESTAURANT   \n",
       "1      Restaurant                          ING CAFE   \n",
       "3      Restaurant                  KOSSARS & BEYOND   \n",
       "5      Restaurant          PORTAL LATINO RESTAURANT   \n",
       "6      Restaurant                   UNREGULAR PIZZA   \n",
       "...           ...                               ...   \n",
       "27970  Restaurant      MC BAKERY AND COFFEE SHOP II   \n",
       "27971  Restaurant                         HENO HENO   \n",
       "27972  Restaurant  A & C GUYANA BAKERY & RESTAURANT   \n",
       "27973  Restaurant                  NEW WIN HING INC   \n",
       "27974  Restaurant                           L'ARGOT   \n",
       "\n",
       "                                 ADDRESS  ZIPCODE      PHONE NO.  \\\n",
       "0              FLATBUSH AVENUE, Brooklyn    11226  Not Available   \n",
       "1      AVENUE OF THE AMERICAS, Manhattan    10036  Not Available   \n",
       "3                GRAND STREET, Manhattan    10002  Not Available   \n",
       "5                 SMITH STREET, Brooklyn    11201  Not Available   \n",
       "6                    4 AVENUE, Manhattan    10003  Not Available   \n",
       "...                                  ...      ...            ...   \n",
       "27970               JEROME AVENUE, Bronx    10468  Not Available   \n",
       "27971        WEST   46 STREET, Manhattan    10036  Not Available   \n",
       "27972             UTICA AVENUE, Brooklyn    11203  Not Available   \n",
       "27973          BAY STREET, Staten Island    10305  Not Available   \n",
       "27974          HAMILTON PLACE, Manhattan    10031  Not Available   \n",
       "\n",
       "                 URL ADDITIONAL DETAILS  \n",
       "0      Not Available      Not Available  \n",
       "1      Not Available      Not Available  \n",
       "3      Not Available      Not Available  \n",
       "5      Not Available      Not Available  \n",
       "6      Not Available      Not Available  \n",
       "...              ...                ...  \n",
       "27970  Not Available      Not Available  \n",
       "27971  Not Available      Not Available  \n",
       "27972  Not Available      Not Available  \n",
       "27973  Not Available      Not Available  \n",
       "27974  Not Available      Not Available  \n",
       "\n",
       "[25991 rows x 7 columns]"
      ]
     },
     "execution_count": 15,
     "metadata": {},
     "output_type": "execute_result"
    }
   ],
   "source": [
    "#rearrange columns to match desired output\n",
    "\n",
    "data = data[['CATEGORY', 'NAME', 'ADDRESS', 'ZIPCODE','PHONE NO.', 'URL', 'ADDITIONAL DETAILS']]\n",
    "\n",
    "data"
   ]
  },
  {
   "cell_type": "code",
   "execution_count": 16,
   "id": "919c9940",
   "metadata": {},
   "outputs": [],
   "source": [
    "#convert to csv\n",
    "data.to_csv('C:\\\\Users\\\\HP\\\\Downloads\\\\Restaurants.csv', index=False)"
   ]
  }
 ],
 "metadata": {
  "kernelspec": {
   "display_name": "Python 3 (ipykernel)",
   "language": "python",
   "name": "python3"
  },
  "language_info": {
   "codemirror_mode": {
    "name": "ipython",
    "version": 3
   },
   "file_extension": ".py",
   "mimetype": "text/x-python",
   "name": "python",
   "nbconvert_exporter": "python",
   "pygments_lexer": "ipython3",
   "version": "3.9.12"
  }
 },
 "nbformat": 4,
 "nbformat_minor": 5
}
